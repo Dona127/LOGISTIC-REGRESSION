{
  "nbformat": 4,
  "nbformat_minor": 0,
  "metadata": {
    "colab": {
      "provenance": []
    },
    "kernelspec": {
      "name": "python3",
      "display_name": "Python 3"
    },
    "language_info": {
      "name": "python"
    }
  },
  "cells": [
    {
      "cell_type": "markdown",
      "source": [
        "## THEORITICAL"
      ],
      "metadata": {
        "id": "NHuoUvRtB-nW"
      }
    },
    {
      "cell_type": "markdown",
      "source": [
        "**Q1. What is Simple Linear Regression (SLR)? Explain its purpose.**\n",
        "\n",
        "**Ans:** Simple Linear Regression (SLR) is a supervised learning algorithm that learns a linear relationship between an independent variable (X) and a dependent variable  (Y).\n",
        "It tries to fit the best straight line through the data points such that the difference between the predicted and actual values is minimized.\n",
        "\n",
        "**PURPOSE:**\n",
        "1. To find a straight-line relationship between X and Y so that we can predict the value of Y based on X.\n",
        "2. To understand the relationship between two variables.\n",
        "3. To predict one variable using the other.\n",
        "4. To analyze trends and make data-driven decisions."
      ],
      "metadata": {
        "id": "aDzcEqATAW1O"
      }
    },
    {
      "cell_type": "markdown",
      "source": [
        "**Q2. What are the key assumptions of Simple Linear Regression?**\n",
        "\n",
        "**Ans:** The key assumptions of Simple Linear Regression are as follows:\n",
        "1. **Linearity**:\n",
        "* The relationship between the independent variable (X) and dependent variable (Y) is linear.\n",
        "\n",
        "2. **Independence of Errors:**\n",
        "* The residuals (errors), the differences between actual and predicted Y, are independent of each other.\n",
        "\n",
        "3. **Homoscedasticity:**\n",
        "* The variance of errors should be constant across all levels of X.\n",
        "4. **Normality of Errors:**\n",
        "* The residuals should follow a normal distribution (bell-shaped curve)\n",
        "5. **X is measured without error:**\n",
        "* The independent variable (X) is assumed to be known exactly, not measured with errors."
      ],
      "metadata": {
        "id": "VoSf76zVAgVd"
      }
    },
    {
      "cell_type": "markdown",
      "source": [
        "**Q3. Write the mathematical equation for a simple linear regression model and\n",
        "explain each term.**\n",
        "\n",
        " **Ans:** The mathematical equation for a Simple Linear Regression (SLR) model is:\n",
        "# `Y = a + bX + e`\n",
        "\n",
        "Explanation:\n",
        "* **Y**: Dependent variable, The variable we want to predict or explain.\n",
        "* **a**: Intercept, ie. The value of Y when X = 0. It represents the starting point of the regression line on the Y-axis.\n",
        "* **b**: Slope Coefficient, The change in Y for a one-unit increase in X.  \n",
        "* **X**: Independent variable,The variable used to predict Y.\n",
        "* **e**: Error Term, Represents the difference between actual Y and predicted Y.\n",
        "\n",
        "\n"
      ],
      "metadata": {
        "id": "c7BkVPizAqqN"
      }
    },
    {
      "cell_type": "markdown",
      "source": [
        "**Q4. Provide a real-world example where simple linear regression can be\n",
        "applied.**\n",
        "\n",
        "**Ans:**Economists often study how people’s consumption (spending) changes with their income — this is called the consumption function.\n",
        "\n",
        "Given,\n",
        "* Dependent Variable(Y): Consumption Expenditure\n",
        "* Independent Variable(X): Disposable Income\n",
        "\n",
        "Regression Equation:\n",
        "\n",
        "Y = a + bX\n",
        "\n",
        "where,\n",
        "* Y = Consumption\n",
        "\n",
        "* X = Income\n",
        "\n",
        "* a = Autonomous Consumption (consumption when income = 0)\n",
        "\n",
        "* b = Marginal Propensity to Consume (MPC) — how much consumption changes when income changes by one unit\n",
        "\n",
        "For example:\n",
        "\n",
        "Income(X): 0,1000,2000,3000,4000\n",
        "Consumption(Y): 200,900,1600,2300,3000\n",
        "\n",
        "Estimated Equation: Y = 200+0.7X\n",
        "\n",
        "Interpretation:\n",
        "* Intercept (a = 200):\n",
        "Even if income is zero, people still spend ₹200 (perhaps by borrowing or using savings).\n",
        "\n",
        "* Slope (b = 0.7):\n",
        "For every ₹1 increase in income, consumption increases by ₹0.70.\n",
        "This means the Marginal Propensity to Consume (MPC) is 0.7.\n"
      ],
      "metadata": {
        "id": "zOQQw7rFA0a4"
      }
    },
    {
      "cell_type": "markdown",
      "source": [
        "**Q5. What is the method of least squares in linear regression?**\n",
        "\n",
        "**Ans:** The method of least squares is used in linear regression to find the best-fitting line by minimizing the sum of squared differences between the actual and predicted values of the dependent variable."
      ],
      "metadata": {
        "id": "na1jZmYuA8EP"
      }
    },
    {
      "cell_type": "markdown",
      "source": [
        "**Q6. What is Logistic Regression? How does it differ from Linear Regression?**\n",
        "\n",
        "**Ans:**Logistic Regression is a supervised machine learning algorithm used for classification problems, where the target variable is categorical (usually binary, like 0/1, yes/no, pass/fail).\n",
        "\n",
        "Unlike linear regression, which predicts continuous values, logistic regression predicts the probability that a given input belongs to a certain class."
      ],
      "metadata": {
        "id": "QMUgSE1vBELw"
      }
    },
    {
      "cell_type": "markdown",
      "source": [
        "**Q7. Name and briefly describe three common evaluation metrics for regression\n",
        "models.**\n",
        "\n",
        "**Ans:** Here are three common evaluation metrics for regression models:\n",
        "1. **MEAN ABSOLUTE ERROR (MAE):**\n",
        "* The average of the absolute differences between the predicted and actual values.\n",
        "\n",
        "2. **MEAN SQUARED ERROR (MSE):**\n",
        "The average of the squared differences between predicted and actual values.\n",
        "\n",
        "3. **R- SQUARED (𝑅^2):**\n",
        "The proportion of variance in the dependent variable that is explained by the independent variable."
      ],
      "metadata": {
        "id": "ZB7aMWG7BOgD"
      }
    },
    {
      "cell_type": "markdown",
      "source": [
        "**Q8. What is the purpose of the R-squared metric in regression analysis?**\n",
        "\n",
        "**Ans:** The purpose of R-squared (R^2\n",
        ") in regression analysis is to measure how well the regression model explains the variability of the dependent variable.\n",
        "\n",
        "**PURPOSE**\n",
        "* **Evaluate model fit**: Helps you judge whether the independent variables meaningfully explain changes in the dependent variable.\n",
        "\n",
        "* **Compare models**: Higher R^2\n",
        " usually indicates a better-fitting model (though beware of overfitting with too many predictors)."
      ],
      "metadata": {
        "id": "d_Uh4C_zBVmR"
      }
    },
    {
      "cell_type": "markdown",
      "source": [
        "**Q10. How do you interpret the coefficients in a simple linear regression model?**\n",
        "\n",
        "**Ans:** In a Simple Linear Regression model, the coefficients show the relationship between the independent variable (X) and the dependent variable (Y).\n",
        "\n",
        "The model equation is:\n",
        "\n",
        "Y = β0 + β1 X + ϵ\n",
        "\n",
        "INTERPRETATION OF THE COEFFICIENTS\n",
        "1. **Intercept (β₀):**\n",
        "* It represents the predicted value of Y when X = 0.\n",
        "\n",
        "* In other words, it’s the point where the regression line crosses the Y-axis.\n",
        "\n",
        "* Example: If β₀ = 2, then when X = 0, the model predicts Y = 2.\n",
        "\n",
        "2. **Slope (β₁):**\n",
        "\n",
        "* It represents the change in Y for a one-unit increase in X.\n",
        "\n",
        "* If β₁ is positive, Y increases as X increases.\n",
        "\n",
        "* If β₁ is negative, Y decreases as X increases.\n",
        "* Example: If β₁ = 0.8, then for every 1-unit increase in X, Y increases by 0.8 units on average."
      ],
      "metadata": {
        "id": "OUkbygX0wAXv"
      }
    },
    {
      "cell_type": "markdown",
      "source": [
        "## PRACTICAL QUESTION"
      ],
      "metadata": {
        "id": "cERpyT0jB1aC"
      }
    },
    {
      "cell_type": "markdown",
      "source": [
        "**Q9. Write Python code to fit a simple linear regression model using scikit-learn\n",
        "and print the slope and intercept.**"
      ],
      "metadata": {
        "id": "3Dvvj7WGBhAY"
      }
    },
    {
      "cell_type": "code",
      "source": [
        "# Import necessary libraries\n",
        "import numpy as np\n",
        "from sklearn.linear_model import LinearRegression\n",
        "\n",
        "# Example data\n",
        "# X should be 2D (feature matrix), y should be 1D (target vector)\n",
        "X = np.array([[1], [2], [3], [4], [5]])   # independent variable\n",
        "y = np.array([2, 4, 5, 4, 5])             # dependent variable\n",
        "\n",
        "# Create and fit the model\n",
        "model = LinearRegression()\n",
        "model.fit(X, y)\n",
        "\n",
        "# Print the slope (coefficient) and intercept\n",
        "print(\"Slope (β1):\", model.coef_[0])\n",
        "print(\"Intercept (β0):\", model.intercept_)"
      ],
      "metadata": {
        "id": "BJfOHB9eBpWJ",
        "colab": {
          "base_uri": "https://localhost:8080/"
        },
        "outputId": "3ba9b20d-9725-4788-e59a-74058d9cde24"
      },
      "execution_count": 1,
      "outputs": [
        {
          "output_type": "stream",
          "name": "stdout",
          "text": [
            "Slope (β1): 0.6\n",
            "Intercept (β0): 2.2\n"
          ]
        }
      ]
    }
  ]
}